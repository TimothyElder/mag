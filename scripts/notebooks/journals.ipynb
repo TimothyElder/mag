{
 "cells": [
  {
   "cell_type": "markdown",
   "metadata": {},
   "source": [
    "# Looking at Journals"
   ]
  },
  {
   "cell_type": "code",
   "execution_count": 4,
   "metadata": {},
   "outputs": [],
   "source": [
    "import os\n",
    "import pandas as pd\n",
    "\n",
    "os.chdir('/Users/timothyelder/Documents/mag')\n",
    "journals = pd.read_csv('data/journals.csv')"
   ]
  },
  {
   "cell_type": "code",
   "execution_count": 5,
   "metadata": {},
   "outputs": [
    {
     "data": {
      "text/html": [
       "<div>\n",
       "<style scoped>\n",
       "    .dataframe tbody tr th:only-of-type {\n",
       "        vertical-align: middle;\n",
       "    }\n",
       "\n",
       "    .dataframe tbody tr th {\n",
       "        vertical-align: top;\n",
       "    }\n",
       "\n",
       "    .dataframe thead th {\n",
       "        text-align: right;\n",
       "    }\n",
       "</style>\n",
       "<table border=\"1\" class=\"dataframe\">\n",
       "  <thead>\n",
       "    <tr style=\"text-align: right;\">\n",
       "      <th></th>\n",
       "      <th>Unnamed: 0</th>\n",
       "      <th>JournalId</th>\n",
       "      <th>NormalizedName</th>\n",
       "    </tr>\n",
       "  </thead>\n",
       "  <tbody>\n",
       "    <tr>\n",
       "      <td>0</td>\n",
       "      <td>1</td>\n",
       "      <td>1137746</td>\n",
       "      <td>the artist and journal of home culture</td>\n",
       "    </tr>\n",
       "    <tr>\n",
       "      <td>1</td>\n",
       "      <td>4</td>\n",
       "      <td>3164724</td>\n",
       "      <td>physiological measurement</td>\n",
       "    </tr>\n",
       "    <tr>\n",
       "      <td>2</td>\n",
       "      <td>5</td>\n",
       "      <td>17807283</td>\n",
       "      <td>theoretical population biology</td>\n",
       "    </tr>\n",
       "    <tr>\n",
       "      <td>3</td>\n",
       "      <td>6</td>\n",
       "      <td>18204665</td>\n",
       "      <td>international journal of multiphase flow</td>\n",
       "    </tr>\n",
       "    <tr>\n",
       "      <td>4</td>\n",
       "      <td>7</td>\n",
       "      <td>27908409</td>\n",
       "      <td>acta veterinaria hungarica</td>\n",
       "    </tr>\n",
       "  </tbody>\n",
       "</table>\n",
       "</div>"
      ],
      "text/plain": [
       "   Unnamed: 0  JournalId                            NormalizedName\n",
       "0           1    1137746    the artist and journal of home culture\n",
       "1           4    3164724                 physiological measurement\n",
       "2           5   17807283            theoretical population biology\n",
       "3           6   18204665  international journal of multiphase flow\n",
       "4           7   27908409                acta veterinaria hungarica"
      ]
     },
     "execution_count": 5,
     "metadata": {},
     "output_type": "execute_result"
    }
   ],
   "source": [
    "journals.head()"
   ]
  },
  {
   "cell_type": "code",
   "execution_count": 26,
   "metadata": {},
   "outputs": [
    {
     "data": {
      "text/html": [
       "<div>\n",
       "<style scoped>\n",
       "    .dataframe tbody tr th:only-of-type {\n",
       "        vertical-align: middle;\n",
       "    }\n",
       "\n",
       "    .dataframe tbody tr th {\n",
       "        vertical-align: top;\n",
       "    }\n",
       "\n",
       "    .dataframe thead th {\n",
       "        text-align: right;\n",
       "    }\n",
       "</style>\n",
       "<table border=\"1\" class=\"dataframe\">\n",
       "  <thead>\n",
       "    <tr style=\"text-align: right;\">\n",
       "      <th></th>\n",
       "      <th>Unnamed: 0</th>\n",
       "      <th>JournalId</th>\n",
       "      <th>NormalizedName</th>\n",
       "    </tr>\n",
       "  </thead>\n",
       "  <tbody>\n",
       "    <tr>\n",
       "      <td>13615</td>\n",
       "      <td>47297</td>\n",
       "      <td>157620343</td>\n",
       "      <td>american sociological review</td>\n",
       "    </tr>\n",
       "  </tbody>\n",
       "</table>\n",
       "</div>"
      ],
      "text/plain": [
       "       Unnamed: 0  JournalId                NormalizedName\n",
       "13615       47297  157620343  american sociological review"
      ]
     },
     "execution_count": 26,
     "metadata": {},
     "output_type": "execute_result"
    }
   ],
   "source": [
    "journals[journals['JournalId'] == 157620343]"
   ]
  },
  {
   "cell_type": "code",
   "execution_count": 13,
   "metadata": {},
   "outputs": [
    {
     "data": {
      "text/html": [
       "<div>\n",
       "<style scoped>\n",
       "    .dataframe tbody tr th:only-of-type {\n",
       "        vertical-align: middle;\n",
       "    }\n",
       "\n",
       "    .dataframe tbody tr th {\n",
       "        vertical-align: top;\n",
       "    }\n",
       "\n",
       "    .dataframe thead th {\n",
       "        text-align: right;\n",
       "    }\n",
       "</style>\n",
       "<table border=\"1\" class=\"dataframe\">\n",
       "  <thead>\n",
       "    <tr style=\"text-align: right;\">\n",
       "      <th></th>\n",
       "      <th>Unnamed: 0</th>\n",
       "      <th>JournalId</th>\n",
       "      <th>NormalizedName</th>\n",
       "    </tr>\n",
       "  </thead>\n",
       "  <tbody>\n",
       "    <tr>\n",
       "      <td>674</td>\n",
       "      <td>2275</td>\n",
       "      <td>130611943</td>\n",
       "      <td>social forces</td>\n",
       "    </tr>\n",
       "    <tr>\n",
       "      <td>819</td>\n",
       "      <td>2792</td>\n",
       "      <td>3880285</td>\n",
       "      <td>science</td>\n",
       "    </tr>\n",
       "    <tr>\n",
       "      <td>1188</td>\n",
       "      <td>4012</td>\n",
       "      <td>106822843</td>\n",
       "      <td>social science &amp; medicine</td>\n",
       "    </tr>\n",
       "    <tr>\n",
       "      <td>3005</td>\n",
       "      <td>10296</td>\n",
       "      <td>4789869</td>\n",
       "      <td>contemporary sociology</td>\n",
       "    </tr>\n",
       "    <tr>\n",
       "      <td>4532</td>\n",
       "      <td>15446</td>\n",
       "      <td>3121261024</td>\n",
       "      <td>research papers in economics</td>\n",
       "    </tr>\n",
       "    <tr>\n",
       "      <td>6512</td>\n",
       "      <td>22165</td>\n",
       "      <td>2751751161</td>\n",
       "      <td>social science research network</td>\n",
       "    </tr>\n",
       "    <tr>\n",
       "      <td>10210</td>\n",
       "      <td>35408</td>\n",
       "      <td>168049282</td>\n",
       "      <td>american journal of public health</td>\n",
       "    </tr>\n",
       "    <tr>\n",
       "      <td>10969</td>\n",
       "      <td>38110</td>\n",
       "      <td>125754415</td>\n",
       "      <td>proceedings of the national academy of science...</td>\n",
       "    </tr>\n",
       "    <tr>\n",
       "      <td>12420</td>\n",
       "      <td>43262</td>\n",
       "      <td>202381698</td>\n",
       "      <td>plos one</td>\n",
       "    </tr>\n",
       "    <tr>\n",
       "      <td>13615</td>\n",
       "      <td>47297</td>\n",
       "      <td>157620343</td>\n",
       "      <td>american sociological review</td>\n",
       "    </tr>\n",
       "  </tbody>\n",
       "</table>\n",
       "</div>"
      ],
      "text/plain": [
       "       Unnamed: 0   JournalId  \\\n",
       "674          2275   130611943   \n",
       "819          2792     3880285   \n",
       "1188         4012   106822843   \n",
       "3005        10296     4789869   \n",
       "4532        15446  3121261024   \n",
       "6512        22165  2751751161   \n",
       "10210       35408   168049282   \n",
       "10969       38110   125754415   \n",
       "12420       43262   202381698   \n",
       "13615       47297   157620343   \n",
       "\n",
       "                                          NormalizedName  \n",
       "674                                        social forces  \n",
       "819                                              science  \n",
       "1188                           social science & medicine  \n",
       "3005                              contemporary sociology  \n",
       "4532                        research papers in economics  \n",
       "6512                     social science research network  \n",
       "10210                  american journal of public health  \n",
       "10969  proceedings of the national academy of science...  \n",
       "12420                                           plos one  \n",
       "13615                       american sociological review  "
      ]
     },
     "execution_count": 13,
     "metadata": {},
     "output_type": "execute_result"
    }
   ],
   "source": [
    "top_ten = [202381698, 2751751161, 3121261024, 130611943,  125754415,  4789869, 157620343, 106822843, 168049282, 3880285]\n",
    "journals[journals['JournalId'].isin(top_ten)]"
   ]
  },
  {
   "cell_type": "code",
   "execution_count": null,
   "metadata": {},
   "outputs": [],
   "source": [
    "journals[journals['JournalId'] == 157620343]"
   ]
  }
 ],
 "metadata": {
  "kernelspec": {
   "display_name": "Python 3",
   "language": "python",
   "name": "python3"
  },
  "language_info": {
   "codemirror_mode": {
    "name": "ipython",
    "version": 3
   },
   "file_extension": ".py",
   "mimetype": "text/x-python",
   "name": "python",
   "nbconvert_exporter": "python",
   "pygments_lexer": "ipython3",
   "version": "3.7.4"
  }
 },
 "nbformat": 4,
 "nbformat_minor": 4
}
