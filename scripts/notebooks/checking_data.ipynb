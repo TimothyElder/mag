{
 "cells": [
  {
   "cell_type": "markdown",
   "id": "123228b1-1009-4a33-8d37-69a290494b7d",
   "metadata": {},
   "source": [
    "# Checking Data Produced By Filtering Scripts\n",
    "\n",
    "In this notebook I want to take a first look at the data that was produced by the various scripts for producing the data. These scripts are as follows:\n",
    "\n",
    "|       Script          |                              Description                              | Output |\n",
    "|-----------------------|------------------------------------------------------------------------|--------\n",
    "| `fuzzy_matches.py`    | Performs fuzzy matching produces many csvs     |       `/matches`        |\n",
    "| `filter_mag_corpus.py`| Filters out the complete MAG data down to the names we feed it |  `authors.csv, authors2papers.csv, papers.csv`   |\n",
    "| `filter_journals.py`  | Does the same but now for journals |    `journals.csv`     |\n",
    "| `filtered_cited`      | Filters papers to get only the ones citing our authors papers |   `citing.csv`     |\n",
    "| `gen_edgelist.py`     | Creates two-mode edgelist between auothrs and journals |   `edge_list.csv`    |\n",
    "| `net_project.R`       | Projects the two-mode network to a one-mode, journal to journal network |  `journal2journal_mat.csv`, `authors2journals_mat.csv`      |\n",
    "\n",
    "What we want to look at is:\n",
    "\n",
    "1. What percent of the faculty names from the network dataset have corresponding names and AuthorIDs in the MAG corpus\n",
    "    - How many unique `AuthorIds` are assigned to the same `NormalizedName`\n",
    "2. The number of papers the authors have\n",
    "3. The paper2journal edgelist\n",
    "    - its length\n",
    "    - how many duplicated rows are in it \n"
   ]
  },
  {
   "cell_type": "markdown",
   "id": "9b6a95c9-52e8-4801-99d4-7bf88b65bd74",
   "metadata": {},
   "source": [
    "## Loading Libraries and Dataframes "
   ]
  },
  {
   "cell_type": "code",
   "execution_count": 106,
   "id": "1fbe0703-62bf-47c0-b412-c859abb26f33",
   "metadata": {},
   "outputs": [],
   "source": [
    "import re \n",
    "import os \n",
    "import json\n",
    "import scipy\n",
    "import networkx\n",
    "import pandas as pd \n",
    "\n",
    "os.chdir('/home/timothyelder/mag')\n",
    "\n",
    "authors_df = pd.read_csv(\"data/authors.csv\", low_memory=False) \n",
    "authors2papers_df = pd.read_csv(\"data/authors2papers.csv\")\n",
    "papers_df = pd.read_csv(\"data/papers.csv\")\n",
    "papers2journals = pd.read_csv(\"data/edge_list.csv\", dtype = {\"PaperId\": int, \"AuthorId\": int, \"JournalId\": int})\n",
    "\n",
    "with open(\"data/faculty_names.txt\", \"r\") as f:\n",
    "    faculty_names = json.loads(f.read())"
   ]
  },
  {
   "cell_type": "markdown",
   "id": "ee45f4e2-e960-4d37-ba5d-5bf59701587d",
   "metadata": {
    "tags": []
   },
   "source": [
    "## Checking Authors\n",
    "\n",
    "I made a big mistake and dropped all the exact matches between the `network_name` and the `NormalizedName` from the network and MAG data respectively. This means that when I was loading the `df_merged` dataframe, which has all the original fuzzy matching output, I was missing a lot of people that ought to be there. I will fix that after I create a new fuzzy matching function using `fuzzyuzzy` that can be implemented in `Dask` and should run a lot quicker. In the mean time I just want to check that John Levi Martin and Andrew Abbott are in the data set because he was missing before. "
   ]
  },
  {
   "cell_type": "code",
   "execution_count": 16,
   "id": "5a64bb16-bec0-47c7-b962-46cd7b81c558",
   "metadata": {},
   "outputs": [
    {
     "data": {
      "text/html": [
       "<div>\n",
       "<style scoped>\n",
       "    .dataframe tbody tr th:only-of-type {\n",
       "        vertical-align: middle;\n",
       "    }\n",
       "\n",
       "    .dataframe tbody tr th {\n",
       "        vertical-align: top;\n",
       "    }\n",
       "\n",
       "    .dataframe thead th {\n",
       "        text-align: right;\n",
       "    }\n",
       "</style>\n",
       "<table border=\"1\" class=\"dataframe\">\n",
       "  <thead>\n",
       "    <tr style=\"text-align: right;\">\n",
       "      <th></th>\n",
       "      <th>AuthorId</th>\n",
       "      <th>Rank</th>\n",
       "      <th>NormalizedName</th>\n",
       "      <th>DisplayName</th>\n",
       "      <th>LastKnownAffiliationId</th>\n",
       "      <th>PaperCount</th>\n",
       "      <th>PaperFamilyCount</th>\n",
       "      <th>CitationCount</th>\n",
       "      <th>CreatedDate</th>\n",
       "    </tr>\n",
       "  </thead>\n",
       "  <tbody>\n",
       "    <tr>\n",
       "      <th>3538</th>\n",
       "      <td>2099401717</td>\n",
       "      <td>21172</td>\n",
       "      <td>andrew abbott</td>\n",
       "      <td>Andrew Abbott</td>\n",
       "      <td>32971472.0</td>\n",
       "      <td>1</td>\n",
       "      <td>1</td>\n",
       "      <td>1</td>\n",
       "      <td>2016-06-24</td>\n",
       "    </tr>\n",
       "    <tr>\n",
       "      <th>4315</th>\n",
       "      <td>2105345566</td>\n",
       "      <td>15792</td>\n",
       "      <td>john levi martin</td>\n",
       "      <td>John Levi Martin</td>\n",
       "      <td>40347166.0</td>\n",
       "      <td>93</td>\n",
       "      <td>92</td>\n",
       "      <td>1885</td>\n",
       "      <td>2016-06-24</td>\n",
       "    </tr>\n",
       "    <tr>\n",
       "      <th>6668</th>\n",
       "      <td>2123983112</td>\n",
       "      <td>21055</td>\n",
       "      <td>andrew abbott</td>\n",
       "      <td>Andrew Abbott</td>\n",
       "      <td>NaN</td>\n",
       "      <td>1</td>\n",
       "      <td>1</td>\n",
       "      <td>2</td>\n",
       "      <td>2016-06-24</td>\n",
       "    </tr>\n",
       "    <tr>\n",
       "      <th>10455</th>\n",
       "      <td>2154730292</td>\n",
       "      <td>13605</td>\n",
       "      <td>andrew abbott</td>\n",
       "      <td>Andrew Abbott</td>\n",
       "      <td>40347166.0</td>\n",
       "      <td>118</td>\n",
       "      <td>117</td>\n",
       "      <td>12854</td>\n",
       "      <td>2016-06-24</td>\n",
       "    </tr>\n",
       "    <tr>\n",
       "      <th>13410</th>\n",
       "      <td>2189242513</td>\n",
       "      <td>20499</td>\n",
       "      <td>andrew abbott</td>\n",
       "      <td>Andrew Abbott</td>\n",
       "      <td>NaN</td>\n",
       "      <td>1</td>\n",
       "      <td>1</td>\n",
       "      <td>4</td>\n",
       "      <td>2016-06-24</td>\n",
       "    </tr>\n",
       "  </tbody>\n",
       "</table>\n",
       "</div>"
      ],
      "text/plain": [
       "         AuthorId   Rank    NormalizedName       DisplayName  \\\n",
       "3538   2099401717  21172     andrew abbott     Andrew Abbott   \n",
       "4315   2105345566  15792  john levi martin  John Levi Martin   \n",
       "6668   2123983112  21055     andrew abbott     Andrew Abbott   \n",
       "10455  2154730292  13605     andrew abbott     Andrew Abbott   \n",
       "13410  2189242513  20499     andrew abbott     Andrew Abbott   \n",
       "\n",
       "       LastKnownAffiliationId  PaperCount  PaperFamilyCount  CitationCount  \\\n",
       "3538               32971472.0           1                 1              1   \n",
       "4315               40347166.0          93                92           1885   \n",
       "6668                      NaN           1                 1              2   \n",
       "10455              40347166.0         118               117          12854   \n",
       "13410                     NaN           1                 1              4   \n",
       "\n",
       "      CreatedDate  \n",
       "3538   2016-06-24  \n",
       "4315   2016-06-24  \n",
       "6668   2016-06-24  \n",
       "10455  2016-06-24  \n",
       "13410  2016-06-24  "
      ]
     },
     "execution_count": 16,
     "metadata": {},
     "output_type": "execute_result"
    }
   ],
   "source": [
    "# only printing head, there are many matches\n",
    "authors_df[(authors_df['NormalizedName'] == \"john levi martin\") | (authors_df['NormalizedName'] == \"andrew abbott\")].head()"
   ]
  },
  {
   "cell_type": "markdown",
   "id": "d2c89596-7683-4d27-a83d-16267255a530",
   "metadata": {},
   "source": [
    "### Checking Length of Dataframe\n",
    "\n",
    "I also want to check how long the dataframe is, what the coverage is between the network data and the MAG data and how many unique AuthorIDs there are relative to the unique names\n",
    "\n",
    "There are 7806, unique faculty names from the network data and 5588 unique author names from the mag data, as can be seen here:"
   ]
  },
  {
   "cell_type": "code",
   "execution_count": 54,
   "id": "80b87833-7c8a-490f-9829-f57a8bd97313",
   "metadata": {},
   "outputs": [
    {
     "name": "stdout",
     "output_type": "stream",
     "text": [
      "Number of unique faculty names is 7806 \n",
      "Number of unique author names is 5588 \n",
      "That is 0.72% coverage\n"
     ]
    }
   ],
   "source": [
    "print (\"Number of unique faculty names is %s \" % len(set(faculty_names)))\n",
    "\n",
    "print (\"Number of unique author names is %s \" % len(set(authors_df.NormalizedName.to_list())))\n",
    "\n",
    "percent = len(set(authors_df.NormalizedName.to_list()))/len(set(faculty_names))\n",
    "\n",
    "print (\"That is \" + str(round(percent, 2)) + \"% coverage\" )\n"
   ]
  },
  {
   "cell_type": "markdown",
   "id": "3bac3a37-33d4-4bb3-a4cb-f0244387f134",
   "metadata": {},
   "source": [
    "Now let's look at how many unique AuthorIds (`AuthorId`) there are compared to unique author names (`NormalizedName`)"
   ]
  },
  {
   "cell_type": "code",
   "execution_count": 79,
   "id": "aefd7861-ca64-4010-a7f2-3ae54a3a4d88",
   "metadata": {},
   "outputs": [
    {
     "name": "stdout",
     "output_type": "stream",
     "text": [
      "The ratio of unique AuthorIds to unique names is 60.39\n"
     ]
    }
   ],
   "source": [
    "print( \"The ratio of unique AuthorIds to unique names is \" + str(round(len(set(authors_df.AuthorId))/len(set(authors_df.NormalizedName.to_list())), 2)))"
   ]
  },
  {
   "cell_type": "markdown",
   "id": "c8b4fd47-61fb-474b-b008-1c6ba069b34b",
   "metadata": {},
   "source": [
    "The last line of code means that there are 60 times more unique AuthorIds than there are unique names. Now that is not the worst thing in the world as it could mean that the same author really just has extra unique authorids, but I think a more realistic assessment means that we are getting a lot of non-sociologists into the dataset. \n",
    "\n",
    "To disambiguate who is and isnt a sociologist we have to look at our papers2authors2journals edgelist, and find the centrality of journals and compute mean centrality scores for authors based on their AuthorId and **NOT** their name. Then we will create a threshold and drop anyone below it, because it will mean they are not publishing in centrally located journals (the journals that are most probably sociology journals). "
   ]
  },
  {
   "cell_type": "markdown",
   "id": "cc1c38f9-8898-46aa-aa4e-12b4701fd8fc",
   "metadata": {},
   "source": [
    "## Checking edgelist\n",
    "\n",
    "Let's look at: \n",
    "1. How many papers are in the edgelist\n",
    "2. How many authors \n",
    "3. how many journals"
   ]
  },
  {
   "cell_type": "code",
   "execution_count": 68,
   "id": "bffb79cf-9eea-48c1-889f-b486982ac773",
   "metadata": {},
   "outputs": [
    {
     "name": "stdout",
     "output_type": "stream",
     "text": [
      "There are 415123 unique PaperIds\n",
      "There are 96483 unique AuthorIds\n",
      "There are 22880 unique JournalIds\n"
     ]
    }
   ],
   "source": [
    "print (\"There are %s \" % len(set(papers2journals.PaperId)) + (\"unique PaperIds\"))\n",
    "print (\"There are %s \" % len(set(papers2journals.AuthorId)) + (\"unique AuthorIds\"))\n",
    "print (\"There are %s \" % len(set(papers2journals.JournalId)) + (\"unique JournalIds\"))\n"
   ]
  },
  {
   "cell_type": "markdown",
   "id": "f5570dee-80c0-4aaf-9292-f9ad586d8b4c",
   "metadata": {},
   "source": [
    "Let's try and make a first pass at converting the edgelist to a network object, getting the adjacency matrix, and projecting the authors to journals matrix to a journals to journals matrix with some matrix multiplication. In this case it should be (where \"m\" is the authors to journals matrix), it should be the transpose of the matrix times the matrix: $$ T(m) \\cdot m $$\n",
    "\n",
    "First make an edgelist with just the authors and journals:"
   ]
  },
  {
   "cell_type": "code",
   "execution_count": 98,
   "id": "8a41b8f1-4b89-4287-9868-2321f8708a2a",
   "metadata": {},
   "outputs": [],
   "source": [
    "authors2journals = papers2journals.drop(columns=\"PaperId\")"
   ]
  },
  {
   "cell_type": "code",
   "execution_count": 100,
   "id": "f14b28e9-9daa-4c28-8375-c5575485451d",
   "metadata": {},
   "outputs": [
    {
     "data": {
      "text/plain": [
       "439313"
      ]
     },
     "execution_count": 100,
     "metadata": {},
     "output_type": "execute_result"
    }
   ],
   "source": [
    "edgeList = authors2journals.values.tolist()"
   ]
  },
  {
   "cell_type": "code",
   "execution_count": 110,
   "id": "4005f931-e3c9-4242-8903-547266a624bc",
   "metadata": {},
   "outputs": [],
   "source": [
    "G = networkx.Graph() # empty network object"
   ]
  },
  {
   "cell_type": "code",
   "execution_count": 111,
   "id": "ca3d9df3-0122-4274-8065-28bc1ba87183",
   "metadata": {},
   "outputs": [],
   "source": [
    "for i in range(len(edgeList)):\n",
    "    G.add_edge(edgeList[i][0], edgeList[i][1])"
   ]
  },
  {
   "cell_type": "code",
   "execution_count": 113,
   "id": "7aa85984-80cb-4bac-a120-0d2f09da4e34",
   "metadata": {},
   "outputs": [],
   "source": [
    "#A = networkx.adjacency_matrix(G).A"
   ]
  },
  {
   "cell_type": "code",
   "execution_count": null,
   "id": "57e6e19a-40d0-4f4a-9bce-7c55bffd9db2",
   "metadata": {},
   "outputs": [],
   "source": []
  },
  {
   "cell_type": "code",
   "execution_count": null,
   "id": "63160438-8aa8-4ffe-b85c-631d69fb4003",
   "metadata": {},
   "outputs": [],
   "source": []
  }
 ],
 "metadata": {
  "kernelspec": {
   "display_name": "Python 3 (ipykernel)",
   "language": "python",
   "name": "python3"
  },
  "language_info": {
   "codemirror_mode": {
    "name": "ipython",
    "version": 3
   },
   "file_extension": ".py",
   "mimetype": "text/x-python",
   "name": "python",
   "nbconvert_exporter": "python",
   "pygments_lexer": "ipython3",
   "version": "3.7.11"
  }
 },
 "nbformat": 4,
 "nbformat_minor": 5
}
