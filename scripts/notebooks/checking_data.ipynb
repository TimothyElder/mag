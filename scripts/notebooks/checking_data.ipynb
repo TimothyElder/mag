{
 "cells": [
  {
   "cell_type": "markdown",
   "id": "38bf4367",
   "metadata": {},
   "source": [
    "# Checking Data Produced By Filtering Scripts\n",
    "\n",
    "In this notebook I want to take a first look at the data that was produced by the various scripts for producing the data. These scripts are as follows:\n",
    "\n",
    "|       Script          |                              Description                              | Output |\n",
    "|-----------------------|------------------------------------------------------------------------|--------\n",
    "| `fuzzy_matches.py`    | Performs fuzzy matching produces many csvs     |       `/matches`        |\n",
    "| `filter_mag_corpus.py`| Filters out the complete MAG data down to the names we feed it |  `authors.csv, authors2papers.csv, papers.csv`   |\n",
    "| `filter_journals.py`  | Does the same but now for journals |    `journals.csv`     |\n",
    "| `filtered_cited`      | Filters papers to get only the ones citing our authors papers |   `citing.csv`     |\n",
    "| `gen_edgelist.py`     | Creates two-mode edgelist between auothrs and journals |   `edge_list.csv`    |\n",
    "| `net_project.R`       | Projects the two-mode network to a one-mode, journal to journal network |  `journal2journal_mat.csv`, `authors2journals_mat.csv`      |\n",
    "\n",
    "What we want to look at is:\n",
    "\n",
    "1. What percent of the faculty names from the network dataset have corresponding names and AuthorIDs in the MAG corpus\n",
    "    - How many unique `AuthorIds` are assigned to the same `NormalizedName`\n",
    "2. The number of papers the authors have\n",
    "3. The paper2journal edgelist\n",
    "    - its length\n",
    "    - how many duplicated rows are in it \n"
   ]
  },
  {
   "cell_type": "markdown",
   "id": "957d3848",
   "metadata": {},
   "source": [
    "## Loading Libraries and Dataframes "
   ]
  },
  {
   "cell_type": "code",
   "execution_count": 1,
   "id": "de010988",
   "metadata": {},
   "outputs": [
    {
     "name": "stderr",
     "output_type": "stream",
     "text": [
      "/home/timothyelder/.conda/envs/soc_of_soc/lib/python3.7/site-packages/IPython/core/interactiveshell.py:3441: DtypeWarning: Columns (16,17) have mixed types.Specify dtype option on import or set low_memory=False.\n",
      "  exec(code_obj, self.user_global_ns, self.user_ns)\n"
     ]
    }
   ],
   "source": [
    "import re \n",
    "import os \n",
    "import json\n",
    "import scipy\n",
    "import dask.array as da\n",
    "import networkx as nx\n",
    "import pandas as pd \n",
    "from scipy import sparse\n",
    "import numpy as np\n",
    "\n",
    "os.chdir('/home/timothyelder/mag')\n",
    "\n",
    "authors_df = pd.read_csv(\"data/authors.csv\", low_memory=False) \n",
    "authors2papers_df = pd.read_csv(\"data/authors2papers.csv\")\n",
    "papers_df = pd.read_csv(\"data/papers.csv\")\n",
    "papers2journals = pd.read_csv(\"data/edge_list.csv\", dtype = {\"PaperId\": int, \"AuthorId\": int, \"JournalId\": int})\n",
    "\n",
    "with open(\"data/faculty_names.txt\", \"r\") as f:\n",
    "    faculty_names = json.loads(f.read())"
   ]
  },
  {
   "cell_type": "markdown",
   "id": "f7b6bc6d",
   "metadata": {
    "tags": []
   },
   "source": [
    "## Checking Authors\n",
    "\n",
    "I made a big mistake and dropped all the exact matches between the `network_name` and the `NormalizedName` from the network and MAG data respectively. This means that when I was loading the `df_merged` dataframe, which has all the original fuzzy matching output, I was missing a lot of people that ought to be there. I will fix that after I create a new fuzzy matching function using `fuzzyuzzy` that can be implemented in `Dask` and should run a lot quicker. In the mean time I just want to check that John Levi Martin and Andrew Abbott are in the data set because he was missing before. "
   ]
  },
  {
   "cell_type": "code",
   "execution_count": 3,
   "id": "519e472e",
   "metadata": {},
   "outputs": [
    {
     "data": {
      "text/html": [
       "<div>\n",
       "<style scoped>\n",
       "    .dataframe tbody tr th:only-of-type {\n",
       "        vertical-align: middle;\n",
       "    }\n",
       "\n",
       "    .dataframe tbody tr th {\n",
       "        vertical-align: top;\n",
       "    }\n",
       "\n",
       "    .dataframe thead th {\n",
       "        text-align: right;\n",
       "    }\n",
       "</style>\n",
       "<table border=\"1\" class=\"dataframe\">\n",
       "  <thead>\n",
       "    <tr style=\"text-align: right;\">\n",
       "      <th></th>\n",
       "      <th>AuthorId</th>\n",
       "      <th>Rank</th>\n",
       "      <th>NormalizedName</th>\n",
       "      <th>DisplayName</th>\n",
       "      <th>LastKnownAffiliationId</th>\n",
       "      <th>PaperCount</th>\n",
       "      <th>PaperFamilyCount</th>\n",
       "      <th>CitationCount</th>\n",
       "      <th>CreatedDate</th>\n",
       "    </tr>\n",
       "  </thead>\n",
       "  <tbody>\n",
       "    <tr>\n",
       "      <th>3579</th>\n",
       "      <td>2099401717</td>\n",
       "      <td>21172</td>\n",
       "      <td>andrew abbott</td>\n",
       "      <td>Andrew Abbott</td>\n",
       "      <td>32971472.0</td>\n",
       "      <td>1</td>\n",
       "      <td>1</td>\n",
       "      <td>1</td>\n",
       "      <td>2016-06-24</td>\n",
       "    </tr>\n",
       "    <tr>\n",
       "      <th>4373</th>\n",
       "      <td>2105345566</td>\n",
       "      <td>15792</td>\n",
       "      <td>john levi martin</td>\n",
       "      <td>John Levi Martin</td>\n",
       "      <td>40347166.0</td>\n",
       "      <td>93</td>\n",
       "      <td>92</td>\n",
       "      <td>1885</td>\n",
       "      <td>2016-06-24</td>\n",
       "    </tr>\n",
       "    <tr>\n",
       "      <th>6763</th>\n",
       "      <td>2123983112</td>\n",
       "      <td>21055</td>\n",
       "      <td>andrew abbott</td>\n",
       "      <td>Andrew Abbott</td>\n",
       "      <td>NaN</td>\n",
       "      <td>1</td>\n",
       "      <td>1</td>\n",
       "      <td>2</td>\n",
       "      <td>2016-06-24</td>\n",
       "    </tr>\n",
       "    <tr>\n",
       "      <th>10603</th>\n",
       "      <td>2154730292</td>\n",
       "      <td>13605</td>\n",
       "      <td>andrew abbott</td>\n",
       "      <td>Andrew Abbott</td>\n",
       "      <td>40347166.0</td>\n",
       "      <td>118</td>\n",
       "      <td>117</td>\n",
       "      <td>12854</td>\n",
       "      <td>2016-06-24</td>\n",
       "    </tr>\n",
       "    <tr>\n",
       "      <th>13608</th>\n",
       "      <td>2189242513</td>\n",
       "      <td>20499</td>\n",
       "      <td>andrew abbott</td>\n",
       "      <td>Andrew Abbott</td>\n",
       "      <td>NaN</td>\n",
       "      <td>1</td>\n",
       "      <td>1</td>\n",
       "      <td>4</td>\n",
       "      <td>2016-06-24</td>\n",
       "    </tr>\n",
       "  </tbody>\n",
       "</table>\n",
       "</div>"
      ],
      "text/plain": [
       "         AuthorId   Rank    NormalizedName       DisplayName  \\\n",
       "3579   2099401717  21172     andrew abbott     Andrew Abbott   \n",
       "4373   2105345566  15792  john levi martin  John Levi Martin   \n",
       "6763   2123983112  21055     andrew abbott     Andrew Abbott   \n",
       "10603  2154730292  13605     andrew abbott     Andrew Abbott   \n",
       "13608  2189242513  20499     andrew abbott     Andrew Abbott   \n",
       "\n",
       "       LastKnownAffiliationId  PaperCount  PaperFamilyCount  CitationCount  \\\n",
       "3579               32971472.0           1                 1              1   \n",
       "4373               40347166.0          93                92           1885   \n",
       "6763                      NaN           1                 1              2   \n",
       "10603              40347166.0         118               117          12854   \n",
       "13608                     NaN           1                 1              4   \n",
       "\n",
       "      CreatedDate  \n",
       "3579   2016-06-24  \n",
       "4373   2016-06-24  \n",
       "6763   2016-06-24  \n",
       "10603  2016-06-24  \n",
       "13608  2016-06-24  "
      ]
     },
     "execution_count": 3,
     "metadata": {},
     "output_type": "execute_result"
    }
   ],
   "source": [
    "# only printing head, there are many matches\n",
    "authors_df[(authors_df['NormalizedName'] == \"john levi martin\") | (authors_df['NormalizedName'] == \"andrew abbott\")].head()"
   ]
  },
  {
   "cell_type": "code",
   "execution_count": 4,
   "id": "867ce5b5-632b-4186-805f-71a2d6dffec6",
   "metadata": {},
   "outputs": [
    {
     "data": {
      "text/plain": [
       "369548"
      ]
     },
     "execution_count": 4,
     "metadata": {},
     "output_type": "execute_result"
    }
   ],
   "source": [
    "len(authors_df)"
   ]
  },
  {
   "cell_type": "markdown",
   "id": "69982d54",
   "metadata": {},
   "source": [
    "### Checking Length of Dataframe\n",
    "\n",
    "I also want to check how long the dataframe is, what the coverage is between the network data and the MAG data and how many unique AuthorIDs there are relative to the unique names\n",
    "\n",
    "There are 7806, unique faculty names from the network data and 5588 unique author names from the mag data, as can be seen here:"
   ]
  },
  {
   "cell_type": "code",
   "execution_count": 139,
   "id": "b9a65617",
   "metadata": {},
   "outputs": [
    {
     "name": "stdout",
     "output_type": "stream",
     "text": [
      "Number of unique faculty names is 7806 \n",
      "Number of unique author names is 13769 \n",
      "That is 176.0% coverage\n"
     ]
    }
   ],
   "source": [
    "print (\"Number of unique faculty names is %s \" % len(set(faculty_names)))\n",
    "\n",
    "print (\"Number of unique author names is %s \" % len(set(authors_df.NormalizedName.to_list())))\n",
    "\n",
    "percent = len(set(authors_df.NormalizedName.to_list()))/len(set(faculty_names))\n",
    "\n",
    "print (\"That is \" + str(round(percent, 2)*100) + \"% coverage\" )\n"
   ]
  },
  {
   "cell_type": "markdown",
   "id": "5e3e2fbf",
   "metadata": {},
   "source": [
    "Now let's look at how many unique AuthorIds (`AuthorId`) there are compared to unique author names (`NormalizedName`)"
   ]
  },
  {
   "cell_type": "code",
   "execution_count": 140,
   "id": "8f9f6060",
   "metadata": {},
   "outputs": [
    {
     "name": "stdout",
     "output_type": "stream",
     "text": [
      "The ratio of unique AuthorIds to unique names is 25.88\n"
     ]
    }
   ],
   "source": [
    "print( \"The ratio of unique AuthorIds to unique names is \" + str(round(len(set(authors_df.AuthorId))/len(set(authors_df.NormalizedName.to_list())), 2)))"
   ]
  },
  {
   "cell_type": "markdown",
   "id": "70a542cb",
   "metadata": {},
   "source": [
    "The last line of code means that there are 60 times more unique AuthorIds than there are unique names. Now that is not the worst thing in the world as it could mean that the same author really just has extra unique authorids, but I think a more realistic assessment means that we are getting a lot of non-sociologists into the dataset. \n",
    "\n",
    "To disambiguate who is and isnt a sociologist we have to look at our papers2authors2journals edgelist, and find the centrality of journals and compute mean centrality scores for authors based on their AuthorId and **NOT** their name. Then we will create a threshold and drop anyone below it, because it will mean they are not publishing in centrally located journals (the journals that are most probably sociology journals). "
   ]
  },
  {
   "cell_type": "markdown",
   "id": "f18559d6",
   "metadata": {},
   "source": [
    "## Checking edgelist\n",
    "\n",
    "Let's look at: \n",
    "1. How many papers are in the edgelist\n",
    "2. How many authors \n",
    "3. how many journals"
   ]
  },
  {
   "cell_type": "code",
   "execution_count": 141,
   "id": "11935904",
   "metadata": {},
   "outputs": [
    {
     "name": "stdout",
     "output_type": "stream",
     "text": [
      "There are 451811 unique PaperIds\n",
      "There are 104254 unique AuthorIds\n",
      "There are 23701 unique JournalIds\n"
     ]
    }
   ],
   "source": [
    "print (\"There are %s \" % len(set(papers2journals.PaperId)) + (\"unique PaperIds\"))\n",
    "print (\"There are %s \" % len(set(papers2journals.AuthorId)) + (\"unique AuthorIds\"))\n",
    "print (\"There are %s \" % len(set(papers2journals.JournalId)) + (\"unique JournalIds\"))\n"
   ]
  },
  {
   "cell_type": "markdown",
   "id": "41df1596",
   "metadata": {},
   "source": [
    "Let's try and make a first pass at converting the edgelist to a network object, getting the adjacency matrix, and projecting the authors to journals matrix to a journals to journals matrix with some matrix multiplication. In this case it should be (where \"m\" is the authors to journals matrix), it should be the transpose of the matrix times the matrix: $$ T(m) \\cdot m $$\n",
    "\n",
    "First make an edgelist with just the authors and journals:"
   ]
  },
  {
   "cell_type": "code",
   "execution_count": 229,
   "id": "f277da96",
   "metadata": {},
   "outputs": [
    {
     "data": {
      "text/html": [
       "<div>\n",
       "<style scoped>\n",
       "    .dataframe tbody tr th:only-of-type {\n",
       "        vertical-align: middle;\n",
       "    }\n",
       "\n",
       "    .dataframe tbody tr th {\n",
       "        vertical-align: top;\n",
       "    }\n",
       "\n",
       "    .dataframe thead th {\n",
       "        text-align: right;\n",
       "    }\n",
       "</style>\n",
       "<table border=\"1\" class=\"dataframe\">\n",
       "  <thead>\n",
       "    <tr style=\"text-align: right;\">\n",
       "      <th></th>\n",
       "      <th>JournalId</th>\n",
       "      <th>AuthorId</th>\n",
       "    </tr>\n",
       "  </thead>\n",
       "  <tbody>\n",
       "    <tr>\n",
       "      <th>0</th>\n",
       "      <td>11296630</td>\n",
       "      <td>2589841857</td>\n",
       "    </tr>\n",
       "    <tr>\n",
       "      <th>1</th>\n",
       "      <td>2764664775</td>\n",
       "      <td>2589841857</td>\n",
       "    </tr>\n",
       "    <tr>\n",
       "      <th>2</th>\n",
       "      <td>205016270</td>\n",
       "      <td>2852206970</td>\n",
       "    </tr>\n",
       "    <tr>\n",
       "      <th>3</th>\n",
       "      <td>159321577</td>\n",
       "      <td>2852206970</td>\n",
       "    </tr>\n",
       "    <tr>\n",
       "      <th>4</th>\n",
       "      <td>131663046</td>\n",
       "      <td>2852206970</td>\n",
       "    </tr>\n",
       "    <tr>\n",
       "      <th>...</th>\n",
       "      <td>...</td>\n",
       "      <td>...</td>\n",
       "    </tr>\n",
       "    <tr>\n",
       "      <th>480644</th>\n",
       "      <td>2764664775</td>\n",
       "      <td>2673033531</td>\n",
       "    </tr>\n",
       "    <tr>\n",
       "      <th>480647</th>\n",
       "      <td>2756327665</td>\n",
       "      <td>3024673164</td>\n",
       "    </tr>\n",
       "    <tr>\n",
       "      <th>480648</th>\n",
       "      <td>207416075</td>\n",
       "      <td>2468663838</td>\n",
       "    </tr>\n",
       "    <tr>\n",
       "      <th>480650</th>\n",
       "      <td>80823180</td>\n",
       "      <td>2166977461</td>\n",
       "    </tr>\n",
       "    <tr>\n",
       "      <th>480652</th>\n",
       "      <td>31122987</td>\n",
       "      <td>2309444449</td>\n",
       "    </tr>\n",
       "  </tbody>\n",
       "</table>\n",
       "<p>282769 rows × 2 columns</p>\n",
       "</div>"
      ],
      "text/plain": [
       "         JournalId    AuthorId\n",
       "0         11296630  2589841857\n",
       "1       2764664775  2589841857\n",
       "2        205016270  2852206970\n",
       "3        159321577  2852206970\n",
       "4        131663046  2852206970\n",
       "...            ...         ...\n",
       "480644  2764664775  2673033531\n",
       "480647  2756327665  3024673164\n",
       "480648   207416075  2468663838\n",
       "480650    80823180  2166977461\n",
       "480652    31122987  2309444449\n",
       "\n",
       "[282769 rows x 2 columns]"
      ]
     },
     "execution_count": 229,
     "metadata": {},
     "output_type": "execute_result"
    }
   ],
   "source": [
    "authors2journals = papers2journals.drop(columns=\"PaperId\") # droping paperids to get authors2journals edgelist\n",
    "authors2journals = authors2journals.drop_duplicates() # dropping duplicates to save memory\n",
    "authors2journals"
   ]
  },
  {
   "cell_type": "code",
   "execution_count": 256,
   "id": "b5b8b37f",
   "metadata": {},
   "outputs": [
    {
     "data": {
      "text/html": [
       "<div>\n",
       "<style scoped>\n",
       "    .dataframe tbody tr th:only-of-type {\n",
       "        vertical-align: middle;\n",
       "    }\n",
       "\n",
       "    .dataframe tbody tr th {\n",
       "        vertical-align: top;\n",
       "    }\n",
       "\n",
       "    .dataframe thead th {\n",
       "        text-align: right;\n",
       "    }\n",
       "</style>\n",
       "<table border=\"1\" class=\"dataframe\">\n",
       "  <thead>\n",
       "    <tr style=\"text-align: right;\">\n",
       "      <th></th>\n",
       "      <th>JournalId</th>\n",
       "      <th>AuthorId</th>\n",
       "    </tr>\n",
       "  </thead>\n",
       "  <tbody>\n",
       "    <tr>\n",
       "      <th>17149</th>\n",
       "      <td>10747938</td>\n",
       "      <td>2085403085</td>\n",
       "    </tr>\n",
       "    <tr>\n",
       "      <th>111541</th>\n",
       "      <td>10747938</td>\n",
       "      <td>2116668110</td>\n",
       "    </tr>\n",
       "    <tr>\n",
       "      <th>382852</th>\n",
       "      <td>10747938</td>\n",
       "      <td>2313615879</td>\n",
       "    </tr>\n",
       "    <tr>\n",
       "      <th>407390</th>\n",
       "      <td>10747938</td>\n",
       "      <td>2292603094</td>\n",
       "    </tr>\n",
       "  </tbody>\n",
       "</table>\n",
       "</div>"
      ],
      "text/plain": [
       "        JournalId    AuthorId\n",
       "17149    10747938  2085403085\n",
       "111541   10747938  2116668110\n",
       "382852   10747938  2313615879\n",
       "407390   10747938  2292603094"
      ]
     },
     "execution_count": 256,
     "metadata": {},
     "output_type": "execute_result"
    }
   ],
   "source": [
    "authors2journals[authors2journals[\"JournalId\"] == 10747938]"
   ]
  },
  {
   "cell_type": "code",
   "execution_count": 169,
   "id": "794132a1",
   "metadata": {},
   "outputs": [
    {
     "name": "stdout",
     "output_type": "stream",
     "text": [
      "23701\n",
      "104254\n"
     ]
    }
   ],
   "source": [
    "print(len(set(authors2journals.JournalId)))\n",
    "print(len(set(authors2journals.AuthorId)))"
   ]
  },
  {
   "cell_type": "code",
   "execution_count": 158,
   "id": "7d9741f8",
   "metadata": {},
   "outputs": [
    {
     "data": {
      "text/plain": [
       "True"
      ]
     },
     "execution_count": 158,
     "metadata": {},
     "output_type": "execute_result"
    }
   ],
   "source": [
    "B = nx.Graph()\n",
    "B.add_nodes_from(authors2journals.JournalId, bipartite=0)\n",
    "B.add_nodes_from(authors2journals.AuthorId, bipartite=1)\n",
    "B.add_edges_from(\n",
    "    [(row['JournalId'], row['AuthorId']) for idx, row in authors2journals.iterrows()])\n",
    "nx.is_bipartite(B)"
   ]
  },
  {
   "cell_type": "code",
   "execution_count": 224,
   "id": "d6a2f3f8",
   "metadata": {},
   "outputs": [],
   "source": [
    "top_nodes = {n for n, d in B.nodes(data=True) if d[\"bipartite\"] == 0}\n",
    "bottom_nodes = set(B) - top_nodes"
   ]
  },
  {
   "cell_type": "code",
   "execution_count": 237,
   "id": "5f8b39e6",
   "metadata": {},
   "outputs": [
    {
     "data": {
      "text/plain": [
       "(104254, 23701)"
      ]
     },
     "execution_count": 237,
     "metadata": {},
     "output_type": "execute_result"
    }
   ],
   "source": [
    "M = nx.algorithms.bipartite.matrix.biadjacency_matrix(B, row_order=bottom_nodes)\n",
    "M.shape"
   ]
  },
  {
   "cell_type": "code",
   "execution_count": 251,
   "id": "3f2f5cc2",
   "metadata": {},
   "outputs": [
    {
     "data": {
      "text/plain": [
       "23701"
      ]
     },
     "execution_count": 251,
     "metadata": {},
     "output_type": "execute_result"
    }
   ],
   "source": [
    "len(top_nodes)"
   ]
  },
  {
   "cell_type": "code",
   "execution_count": 252,
   "id": "d931b97a",
   "metadata": {},
   "outputs": [
    {
     "data": {
      "text/plain": [
       "104254"
      ]
     },
     "execution_count": 252,
     "metadata": {},
     "output_type": "execute_result"
    }
   ],
   "source": [
    "len(bottom_nodes)"
   ]
  },
  {
   "cell_type": "code",
   "execution_count": 253,
   "id": "a244c51e",
   "metadata": {},
   "outputs": [
    {
     "data": {
      "text/plain": [
       "(23701, 23701)"
      ]
     },
     "execution_count": 253,
     "metadata": {},
     "output_type": "execute_result"
    }
   ],
   "source": [
    "mat = M.transpose() @ M\n",
    "mat.shape"
   ]
  },
  {
   "cell_type": "code",
   "execution_count": 214,
   "id": "83d086d1",
   "metadata": {},
   "outputs": [],
   "source": [
    "#M = da.from_array(M)\n"
   ]
  },
  {
   "cell_type": "code",
   "execution_count": 215,
   "id": "5bbb54f4",
   "metadata": {},
   "outputs": [
    {
     "data": {
      "text/plain": [
       "2"
      ]
     },
     "execution_count": 215,
     "metadata": {},
     "output_type": "execute_result"
    }
   ],
   "source": [
    "mat.ndim"
   ]
  },
  {
   "cell_type": "code",
   "execution_count": 221,
   "id": "1aa62011",
   "metadata": {},
   "outputs": [
    {
     "data": {
      "text/plain": [
       "(23701, 23701)"
      ]
     },
     "execution_count": 221,
     "metadata": {},
     "output_type": "execute_result"
    }
   ],
   "source": [
    "mat.shape"
   ]
  },
  {
   "cell_type": "code",
   "execution_count": 243,
   "id": "e8ba0354",
   "metadata": {},
   "outputs": [],
   "source": [
    "df = pd.DataFrame(mat, columns=top_nodes, index=top_nodes)"
   ]
  },
  {
   "cell_type": "code",
   "execution_count": 257,
   "id": "6fe74a7d",
   "metadata": {},
   "outputs": [],
   "source": [
    "df.to_csv(\"/home/timothyelder/mag/data.csv\")"
   ]
  },
  {
   "cell_type": "code",
   "execution_count": 218,
   "id": "e21e5060",
   "metadata": {},
   "outputs": [
    {
     "data": {
      "text/plain": [
       "numpy.ndarray"
      ]
     },
     "execution_count": 218,
     "metadata": {},
     "output_type": "execute_result"
    }
   ],
   "source": [
    "mat = scipy.sparse.csr_matrix.toarray(mat)\n",
    "type(mat)"
   ]
  },
  {
   "cell_type": "code",
   "execution_count": 220,
   "id": "bedb590d",
   "metadata": {},
   "outputs": [],
   "source": [
    "savetxt('data.csv', mat, delimiter=',')"
   ]
  },
  {
   "cell_type": "code",
   "execution_count": null,
   "id": "2477c14c",
   "metadata": {},
   "outputs": [],
   "source": []
  },
  {
   "cell_type": "code",
   "execution_count": 180,
   "id": "e8c281e6",
   "metadata": {},
   "outputs": [],
   "source": []
  },
  {
   "cell_type": "code",
   "execution_count": 150,
   "id": "971266f8",
   "metadata": {},
   "outputs": [],
   "source": [
    "TM = da.transpose(M)"
   ]
  },
  {
   "cell_type": "code",
   "execution_count": 151,
   "id": "7cd3a76f",
   "metadata": {},
   "outputs": [
    {
     "data": {
      "text/plain": [
       "dask.array.core.Array"
      ]
     },
     "execution_count": 151,
     "metadata": {},
     "output_type": "execute_result"
    }
   ],
   "source": [
    "type(TM)"
   ]
  },
  {
   "cell_type": "code",
   "execution_count": 152,
   "id": "0e996500",
   "metadata": {},
   "outputs": [
    {
     "data": {
      "text/html": [
       "<table>\n",
       "<tr>\n",
       "<td>\n",
       "<table>\n",
       "  <thead>\n",
       "    <tr><td> </td><th> Array </th><th> Chunk </th></tr>\n",
       "  </thead>\n",
       "  <tbody>\n",
       "    <tr><th> Bytes </th><td> 19.77 GB </td> <td> 134.22 MB </td></tr>\n",
       "    <tr><th> Shape </th><td> (23701, 104254) </td> <td> (4096, 4096) </td></tr>\n",
       "    <tr><th> Count </th><td> 313 Tasks </td><td> 156 Chunks </td></tr>\n",
       "    <tr><th> Type </th><td> int64 </td><td> numpy.ndarray </td></tr>\n",
       "  </tbody>\n",
       "</table>\n",
       "</td>\n",
       "<td>\n",
       "<svg width=\"170\" height=\"92\" style=\"stroke:rgb(0,0,0);stroke-width:1\" >\n",
       "\n",
       "  <!-- Horizontal lines -->\n",
       "  <line x1=\"0\" y1=\"0\" x2=\"120\" y2=\"0\" style=\"stroke-width:2\" />\n",
       "  <line x1=\"0\" y1=\"7\" x2=\"120\" y2=\"7\" />\n",
       "  <line x1=\"0\" y1=\"14\" x2=\"120\" y2=\"14\" />\n",
       "  <line x1=\"0\" y1=\"22\" x2=\"120\" y2=\"22\" />\n",
       "  <line x1=\"0\" y1=\"29\" x2=\"120\" y2=\"29\" />\n",
       "  <line x1=\"0\" y1=\"36\" x2=\"120\" y2=\"36\" />\n",
       "  <line x1=\"0\" y1=\"42\" x2=\"120\" y2=\"42\" style=\"stroke-width:2\" />\n",
       "\n",
       "  <!-- Vertical lines -->\n",
       "  <line x1=\"0\" y1=\"0\" x2=\"0\" y2=\"42\" style=\"stroke-width:2\" />\n",
       "  <line x1=\"4\" y1=\"0\" x2=\"4\" y2=\"42\" />\n",
       "  <line x1=\"9\" y1=\"0\" x2=\"9\" y2=\"42\" />\n",
       "  <line x1=\"18\" y1=\"0\" x2=\"18\" y2=\"42\" />\n",
       "  <line x1=\"23\" y1=\"0\" x2=\"23\" y2=\"42\" />\n",
       "  <line x1=\"28\" y1=\"0\" x2=\"28\" y2=\"42\" />\n",
       "  <line x1=\"37\" y1=\"0\" x2=\"37\" y2=\"42\" />\n",
       "  <line x1=\"42\" y1=\"0\" x2=\"42\" y2=\"42\" />\n",
       "  <line x1=\"47\" y1=\"0\" x2=\"47\" y2=\"42\" />\n",
       "  <line x1=\"56\" y1=\"0\" x2=\"56\" y2=\"42\" />\n",
       "  <line x1=\"61\" y1=\"0\" x2=\"61\" y2=\"42\" />\n",
       "  <line x1=\"70\" y1=\"0\" x2=\"70\" y2=\"42\" />\n",
       "  <line x1=\"75\" y1=\"0\" x2=\"75\" y2=\"42\" />\n",
       "  <line x1=\"80\" y1=\"0\" x2=\"80\" y2=\"42\" />\n",
       "  <line x1=\"89\" y1=\"0\" x2=\"89\" y2=\"42\" />\n",
       "  <line x1=\"94\" y1=\"0\" x2=\"94\" y2=\"42\" />\n",
       "  <line x1=\"99\" y1=\"0\" x2=\"99\" y2=\"42\" />\n",
       "  <line x1=\"108\" y1=\"0\" x2=\"108\" y2=\"42\" />\n",
       "  <line x1=\"113\" y1=\"0\" x2=\"113\" y2=\"42\" />\n",
       "  <line x1=\"120\" y1=\"0\" x2=\"120\" y2=\"42\" style=\"stroke-width:2\" />\n",
       "\n",
       "  <!-- Colored Rectangle -->\n",
       "  <polygon points=\"0.0,0.0 120.0,0.0 120.0,42.533545584013815 0.0,42.533545584013815\" style=\"fill:#8B4903A0;stroke-width:0\"/>\n",
       "\n",
       "  <!-- Text -->\n",
       "  <text x=\"60.000000\" y=\"62.533546\" font-size=\"1.0rem\" font-weight=\"100\" text-anchor=\"middle\" >104254</text>\n",
       "  <text x=\"140.000000\" y=\"21.266773\" font-size=\"1.0rem\" font-weight=\"100\" text-anchor=\"middle\" transform=\"rotate(-90,140.000000,21.266773)\">23701</text>\n",
       "</svg>\n",
       "</td>\n",
       "</tr>\n",
       "</table>"
      ],
      "text/plain": [
       "dask.array<transpose, shape=(23701, 104254), dtype=int64, chunksize=(4096, 4096), chunktype=numpy.ndarray>"
      ]
     },
     "execution_count": 152,
     "metadata": {},
     "output_type": "execute_result"
    }
   ],
   "source": [
    "TM"
   ]
  },
  {
   "cell_type": "code",
   "execution_count": 163,
   "id": "09f58c11",
   "metadata": {},
   "outputs": [
    {
     "data": {
      "text/html": [
       "<table>\n",
       "<tr>\n",
       "<td>\n",
       "<table>\n",
       "  <thead>\n",
       "    <tr><td> </td><th> Array </th><th> Chunk </th></tr>\n",
       "  </thead>\n",
       "  <tbody>\n",
       "    <tr><th> Bytes </th><td> 4.49 GB </td> <td> 4.49 GB </td></tr>\n",
       "    <tr><th> Shape </th><td> (23701, 23701) </td> <td> (23701, 23701) </td></tr>\n",
       "    <tr><th> Count </th><td> 4 Tasks </td><td> 1 Chunks </td></tr>\n",
       "    <tr><th> Type </th><td> int64 </td><td> numpy.ndarray </td></tr>\n",
       "  </tbody>\n",
       "</table>\n",
       "</td>\n",
       "<td>\n",
       "<svg width=\"170\" height=\"170\" style=\"stroke:rgb(0,0,0);stroke-width:1\" >\n",
       "\n",
       "  <!-- Horizontal lines -->\n",
       "  <line x1=\"0\" y1=\"0\" x2=\"120\" y2=\"0\" style=\"stroke-width:2\" />\n",
       "  <line x1=\"0\" y1=\"120\" x2=\"120\" y2=\"120\" style=\"stroke-width:2\" />\n",
       "\n",
       "  <!-- Vertical lines -->\n",
       "  <line x1=\"0\" y1=\"0\" x2=\"0\" y2=\"120\" style=\"stroke-width:2\" />\n",
       "  <line x1=\"120\" y1=\"0\" x2=\"120\" y2=\"120\" style=\"stroke-width:2\" />\n",
       "\n",
       "  <!-- Colored Rectangle -->\n",
       "  <polygon points=\"0.0,0.0 120.0,0.0 120.0,120.0 0.0,120.0\" style=\"fill:#ECB172A0;stroke-width:0\"/>\n",
       "\n",
       "  <!-- Text -->\n",
       "  <text x=\"60.000000\" y=\"140.000000\" font-size=\"1.0rem\" font-weight=\"100\" text-anchor=\"middle\" >23701</text>\n",
       "  <text x=\"140.000000\" y=\"60.000000\" font-size=\"1.0rem\" font-weight=\"100\" text-anchor=\"middle\" transform=\"rotate(-90,140.000000,60.000000)\">23701</text>\n",
       "</svg>\n",
       "</td>\n",
       "</tr>\n",
       "</table>"
      ],
      "text/plain": [
       "dask.array<matmul, shape=(23701, 23701), dtype=int64, chunksize=(23701, 23701), chunktype=numpy.ndarray>"
      ]
     },
     "execution_count": 163,
     "metadata": {},
     "output_type": "execute_result"
    }
   ],
   "source": [
    "mat = da.matmul(da.transpose(M), M)\n",
    "mat"
   ]
  }
 ],
 "metadata": {
  "kernelspec": {
   "display_name": "Python 3 (ipykernel)",
   "language": "python",
   "name": "python3"
  },
  "language_info": {
   "codemirror_mode": {
    "name": "ipython",
    "version": 3
   },
   "file_extension": ".py",
   "mimetype": "text/x-python",
   "name": "python",
   "nbconvert_exporter": "python",
   "pygments_lexer": "ipython3",
   "version": "3.7.11"
  }
 },
 "nbformat": 4,
 "nbformat_minor": 5
}
