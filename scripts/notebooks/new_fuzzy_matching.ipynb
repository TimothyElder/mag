{
 "cells": [
  {
   "cell_type": "markdown",
   "metadata": {},
   "source": [
    "# Fuzzy Matching"
   ]
  },
  {
   "cell_type": "code",
   "execution_count": 2,
   "metadata": {},
   "outputs": [],
   "source": [
    "from sklearn.feature_extraction.text import TfidfVectorizer\n",
    "import dask.dataframe as dd\n",
    "import os\n",
    "import csv\n",
    "\n",
    "os.chdir('/home/timothyelder/mag')\n",
    "\n",
    "path = '/project/jevans/MAG_0802_2021_snap_shot/'\n",
    "\n",
    "authors_df = dd.read_csv(\"/home/timothyelder/matches/matched_part_00.csv\")\n",
    "\n",
    "faculty_df = dd.read_csv(\"/home/timothyelder/mag/data/faculty_df_complete.csv\")\n",
    "\n"
   ]
  },
  {
   "cell_type": "code",
   "execution_count": 3,
   "metadata": {},
   "outputs": [],
   "source": [
    "import re\n",
    "\n",
    "def ngrams(string, n=3):\n",
    "    string = re.sub(r'[,-./]|\\sBD',r'', string)\n",
    "    ngrams = zip(*[string[i:] for i in range(n)])\n",
    "    return [''.join(ngram) for ngram in ngrams]"
   ]
  },
  {
   "cell_type": "code",
   "execution_count": 4,
   "metadata": {},
   "outputs": [
    {
     "name": "stderr",
     "output_type": "stream",
     "text": [
      "/home/timothyelder/.conda/envs/soc_of_soc/lib/python3.7/site-packages/dask/dataframe/io/csv.py:737: FutureWarning: The error_bad_lines argument has been deprecated and will be removed in a future version.\n",
      "\n",
      "\n",
      "  **kwargs,\n"
     ]
    }
   ],
   "source": [
    "# Load authors dataframe from MAG\n",
    "authors_df = dd.read_csv(path + 'Authors.txt',\n",
    "                                           sep=\"\\t\", header=None,\n",
    "                                           error_bad_lines=False,\n",
    "                                           quoting=csv.QUOTE_NONE,\n",
    "                                           encoding='utf-8')\n",
    "\n",
    "new_columns = ['AuthorId', 'Rank',\n",
    "               'NormalizedName', 'DisplayName',\n",
    "               'LastKnownAffiliationId', 'PaperCount',\n",
    "               'PaperFamilyCount', 'CitationCount', 'CreatedDate']\n",
    "\n",
    "authors_df = authors_df.rename(columns=dict(zip(authors_df.columns, new_columns)))"
   ]
  },
  {
   "cell_type": "code",
   "execution_count": null,
   "metadata": {},
   "outputs": [],
   "source": [
    "load faculty_df and normalize them then append "
   ]
  },
  {
   "cell_type": "code",
   "execution_count": null,
   "metadata": {},
   "outputs": [
    {
     "name": "stderr",
     "output_type": "stream",
     "text": [
      "/home/timothyelder/.conda/envs/soc_of_soc/lib/python3.7/site-packages/dask/dataframe/io/csv.py:134: FutureWarning: The error_bad_lines argument has been deprecated and will be removed in a future version.\n",
      "\n",
      "\n",
      "  path_info,\n",
      "/home/timothyelder/.conda/envs/soc_of_soc/lib/python3.7/site-packages/dask/dataframe/io/csv.py:134: FutureWarning: The error_bad_lines argument has been deprecated and will be removed in a future version.\n",
      "\n",
      "\n",
      "  path_info,\n"
     ]
    }
   ],
   "source": [
    "faculty_names = faculty_df.faculty_name.unique().compute()\n",
    "\n",
    "NormalizedNames = authors_df.NormalizedName.unique().compute()\n",
    "\n",
    "print(len(NormalizedNames))\n",
    "\n",
    "NormalizedNames.append(faculty_names)\n",
    "\n",
    "print(len(NormalizedNames))"
   ]
  },
  {
   "cell_type": "code",
   "execution_count": 18,
   "metadata": {},
   "outputs": [],
   "source": [
    "vectorizer = TfidfVectorizer(min_df=1, analyzer=ngrams)\n",
    "tf_idf_matrix = vectorizer.fit_transform(NormalizedNames)"
   ]
  },
  {
   "cell_type": "code",
   "execution_count": 19,
   "metadata": {},
   "outputs": [
    {
     "data": {
      "text/plain": [
       "<85264586x6897527 sparse matrix of type '<class 'numpy.float64'>'\n",
       "\twith 1056209388 stored elements in Compressed Sparse Row format>"
      ]
     },
     "execution_count": 19,
     "metadata": {},
     "output_type": "execute_result"
    }
   ],
   "source": [
    "tf_idf_matrix"
   ]
  },
  {
   "cell_type": "code",
   "execution_count": 20,
   "metadata": {},
   "outputs": [
    {
     "name": "stdout",
     "output_type": "stream",
     "text": [
      "Requirement already satisfied: sparse_dot_topn in /home/timothyelder/.conda/envs/soc_of_soc/lib/python3.7/site-packages (0.3.1)\n",
      "Requirement already satisfied: setuptools>=42 in /home/timothyelder/.conda/envs/soc_of_soc/lib/python3.7/site-packages (from sparse_dot_topn) (52.0.0.post20210125)\n",
      "Requirement already satisfied: scipy>=1.2.3 in /home/timothyelder/.conda/envs/soc_of_soc/lib/python3.7/site-packages (from sparse_dot_topn) (1.7.1)\n",
      "Requirement already satisfied: numpy>=1.16.6 in /home/timothyelder/.conda/envs/soc_of_soc/lib/python3.7/site-packages (from sparse_dot_topn) (1.20.3)\n",
      "Requirement already satisfied: cython>=0.29.15 in /home/timothyelder/.conda/envs/soc_of_soc/lib/python3.7/site-packages (from sparse_dot_topn) (0.29.24)\n"
     ]
    }
   ],
   "source": [
    "import numpy as np\n",
    "from scipy.sparse import csr_matrix\n",
    "!pip install sparse_dot_topn \n",
    "import sparse_dot_topn.sparse_dot_topn as ct\n",
    "\n",
    "def awesome_cossim_top(A, B, ntop, lower_bound=0):\n",
    "    # force A and B as a CSR matrix.\n",
    "    # If they have already been CSR, there is no overhead\n",
    "    A = A.tocsr()\n",
    "    B = B.tocsr()\n",
    "    M, _ = A.shape\n",
    "    _, N = B.shape\n",
    " \n",
    "    idx_dtype = np.int32\n",
    " \n",
    "    nnz_max = M*ntop\n",
    " \n",
    "    indptr = np.zeros(M+1, dtype=idx_dtype)\n",
    "    indices = np.zeros(nnz_max, dtype=idx_dtype)\n",
    "    data = np.zeros(nnz_max, dtype=A.dtype)\n",
    "    ct.sparse_dot_topn(\n",
    "            M, N, np.asarray(A.indptr, dtype=idx_dtype),\n",
    "            np.asarray(A.indices, dtype=idx_dtype),\n",
    "            A.data,\n",
    "            np.asarray(B.indptr, dtype=idx_dtype),\n",
    "            np.asarray(B.indices, dtype=idx_dtype),\n",
    "            B.data,\n",
    "            ntop,\n",
    "            lower_bound,\n",
    "            indptr, indices, data)\n",
    "    return csr_matrix((data,indices,indptr),shape=(M,N))"
   ]
  },
  {
   "cell_type": "code",
   "execution_count": null,
   "metadata": {},
   "outputs": [],
   "source": [
    "import time\n",
    "t1 = time.time()\n",
    "matches = awesome_cossim_top(tf_idf_matrix, tf_idf_matrix.transpose(), 10, 0.9)\n",
    "t = time.time()-t1\n",
    "print(\"SELFTIMED:\", t)\n"
   ]
  },
  {
   "cell_type": "code",
   "execution_count": null,
   "metadata": {},
   "outputs": [],
   "source": [
    "def get_matches_df(sparse_matrix, name_vector, top=100):\n",
    "    non_zeros = sparse_matrix.nonzero()\n",
    "    \n",
    "    sparserows = non_zeros[0]\n",
    "    sparsecols = non_zeros[1]\n",
    "    \n",
    "    if top:\n",
    "        nr_matches = top\n",
    "    else:\n",
    "        nr_matches = sparsecols.size\n",
    "    \n",
    "    left_side = np.empty([nr_matches], dtype=object)\n",
    "    right_side = np.empty([nr_matches], dtype=object)\n",
    "    similairity = np.zeros(nr_matches)\n",
    "    \n",
    "    for index in range(0, nr_matches):\n",
    "        left_side[index] = name_vector[sparserows[index]]\n",
    "        right_side[index] = name_vector[sparsecols[index]]\n",
    "        similairity[index] = sparse_matrix.data[index]\n",
    "    \n",
    "    return pd.DataFrame({'left_side': left_side,\n",
    "                          'right_side': right_side,\n",
    "                           'similairity': similairity})"
   ]
  },
  {
   "cell_type": "code",
   "execution_count": null,
   "metadata": {},
   "outputs": [],
   "source": [
    "import pandas as pd\n",
    "matches_df = get_matches_df(matches, NormalizedNames, top=100000)\n",
    "matches_df = matches_df[matches_df['similairity'] < 0.99999] # Remove all exact matches\n",
    "matches_df.sample(20)"
   ]
  },
  {
   "cell_type": "code",
   "execution_count": null,
   "metadata": {},
   "outputs": [],
   "source": [
    "len(NormalizedNames)"
   ]
  },
  {
   "cell_type": "code",
   "execution_count": 66,
   "metadata": {},
   "outputs": [
    {
     "data": {
      "text/plain": [
       "4751"
      ]
     },
     "execution_count": 66,
     "metadata": {},
     "output_type": "execute_result"
    }
   ],
   "source": [
    "len(matches_df)"
   ]
  },
  {
   "cell_type": "code",
   "execution_count": 45,
   "metadata": {},
   "outputs": [
    {
     "data": {
      "text/html": [
       "<div>\n",
       "<style scoped>\n",
       "    .dataframe tbody tr th:only-of-type {\n",
       "        vertical-align: middle;\n",
       "    }\n",
       "\n",
       "    .dataframe tbody tr th {\n",
       "        vertical-align: top;\n",
       "    }\n",
       "\n",
       "    .dataframe thead th {\n",
       "        text-align: right;\n",
       "    }\n",
       "</style>\n",
       "<table border=\"1\" class=\"dataframe\">\n",
       "  <thead>\n",
       "    <tr style=\"text-align: right;\">\n",
       "      <th></th>\n",
       "      <th>Unnamed: 0</th>\n",
       "      <th>best_match_score</th>\n",
       "      <th>__id_left</th>\n",
       "      <th>__id_right</th>\n",
       "      <th>faculty_name</th>\n",
       "      <th>network_name</th>\n",
       "      <th>AuthorId</th>\n",
       "      <th>NormalizedName</th>\n",
       "    </tr>\n",
       "  </thead>\n",
       "  <tbody>\n",
       "    <tr>\n",
       "      <th>0</th>\n",
       "      <td>0</td>\n",
       "      <td>0.299692</td>\n",
       "      <td>0_left</td>\n",
       "      <td>1790018_right</td>\n",
       "      <td>Siegenthaler, Jurg</td>\n",
       "      <td>jurg siegenthaler</td>\n",
       "      <td>328465342.0</td>\n",
       "      <td>thomas siegenthaler</td>\n",
       "    </tr>\n",
       "    <tr>\n",
       "      <th>1</th>\n",
       "      <td>16</td>\n",
       "      <td>0.069487</td>\n",
       "      <td>1_left</td>\n",
       "      <td>722178_right</td>\n",
       "      <td>Clark, Leon E.</td>\n",
       "      <td>leon e. clark</td>\n",
       "      <td>229643539.0</td>\n",
       "      <td>o e sanchez leon</td>\n",
       "    </tr>\n",
       "    <tr>\n",
       "      <th>2</th>\n",
       "      <td>26</td>\n",
       "      <td>0.233462</td>\n",
       "      <td>2_left</td>\n",
       "      <td>1208458_right</td>\n",
       "      <td>Young, Gloria (Gay) A.</td>\n",
       "      <td>gloria (gay) a. young</td>\n",
       "      <td>272560606.0</td>\n",
       "      <td>ko young aie</td>\n",
       "    </tr>\n",
       "    <tr>\n",
       "      <th>3</th>\n",
       "      <td>133</td>\n",
       "      <td>0.151519</td>\n",
       "      <td>3_left</td>\n",
       "      <td>540491_right</td>\n",
       "      <td>Stone, Russell</td>\n",
       "      <td>russell stone</td>\n",
       "      <td>214803037.0</td>\n",
       "      <td>stone</td>\n",
       "    </tr>\n",
       "    <tr>\n",
       "      <th>4</th>\n",
       "      <td>195</td>\n",
       "      <td>0.050717</td>\n",
       "      <td>4_left</td>\n",
       "      <td>319507_right</td>\n",
       "      <td>Dickerson, Bette J.</td>\n",
       "      <td>bette j. dickerson</td>\n",
       "      <td>146733665.0</td>\n",
       "      <td>bette j peltola</td>\n",
       "    </tr>\n",
       "  </tbody>\n",
       "</table>\n",
       "</div>"
      ],
      "text/plain": [
       "   Unnamed: 0  best_match_score __id_left     __id_right  \\\n",
       "0           0          0.299692    0_left  1790018_right   \n",
       "1          16          0.069487    1_left   722178_right   \n",
       "2          26          0.233462    2_left  1208458_right   \n",
       "3         133          0.151519    3_left   540491_right   \n",
       "4         195          0.050717    4_left   319507_right   \n",
       "\n",
       "             faculty_name           network_name     AuthorId  \\\n",
       "0      Siegenthaler, Jurg      jurg siegenthaler  328465342.0   \n",
       "1          Clark, Leon E.          leon e. clark  229643539.0   \n",
       "2  Young, Gloria (Gay) A.  gloria (gay) a. young  272560606.0   \n",
       "3          Stone, Russell          russell stone  214803037.0   \n",
       "4     Dickerson, Bette J.     bette j. dickerson  146733665.0   \n",
       "\n",
       "        NormalizedName  \n",
       "0  thomas siegenthaler  \n",
       "1     o e sanchez leon  \n",
       "2         ko young aie  \n",
       "3                stone  \n",
       "4      bette j peltola  "
      ]
     },
     "execution_count": 45,
     "metadata": {},
     "output_type": "execute_result"
    }
   ],
   "source": [
    "authors_df.head()"
   ]
  },
  {
   "cell_type": "code",
   "execution_count": 46,
   "metadata": {},
   "outputs": [
    {
     "data": {
      "text/plain": [
       "0       thomas siegenthaler\n",
       "1          o e sanchez leon\n",
       "2              ko young aie\n",
       "3                     stone\n",
       "4           bette j peltola\n",
       "               ...         \n",
       "5038            rene caquet\n",
       "5039        lloyd d fricker\n",
       "5040                 v zang\n",
       "5041           alka dwevedi\n",
       "5042         fredrik karell\n",
       "Name: NormalizedName, Length: 5043, dtype: object"
      ]
     },
     "execution_count": 46,
     "metadata": {},
     "output_type": "execute_result"
    }
   ],
   "source": [
    "NormalizedNames"
   ]
  },
  {
   "cell_type": "code",
   "execution_count": null,
   "metadata": {},
   "outputs": [],
   "source": []
  }
 ],
 "metadata": {
  "kernelspec": {
   "display_name": "Python 3 (ipykernel)",
   "language": "python",
   "name": "python3"
  },
  "language_info": {
   "codemirror_mode": {
    "name": "ipython",
    "version": 3
   },
   "file_extension": ".py",
   "mimetype": "text/x-python",
   "name": "python",
   "nbconvert_exporter": "python",
   "pygments_lexer": "ipython3",
   "version": "3.7.11"
  }
 },
 "nbformat": 4,
 "nbformat_minor": 4
}
